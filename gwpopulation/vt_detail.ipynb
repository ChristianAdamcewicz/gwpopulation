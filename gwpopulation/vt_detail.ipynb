{
 "cells": [
  {
   "cell_type": "code",
   "execution_count": 66,
   "id": "6b8c4fef-ad0f-4265-9eca-acb813256d37",
   "metadata": {},
   "outputs": [],
   "source": [
    "import numpy as np\n",
    "from gwpopulation.cupy_utils import xp\n",
    "from gwpopulation.vt import GridVT, ResamplingVT\n",
    "import gwpopulation_pipe.vt_helper as vt_helper\n",
    "from gwpopulation.models.mass import (\n",
    "    SinglePeakSmoothedMassDistribution,\n",
    ")\n",
    "from gwpopulation.models.spin import (\n",
    "    iid_spin,\n",
    "    iid_spin_magnitude_beta,\n",
    "    iid_spin_orientation_gaussian_isotropic,\n",
    "    independent_spin_magnitude_beta,\n",
    "    independent_spin_orientation_gaussian_isotropic,\n",
    "    iiz_spin_orientation_gaussian_isotropic,\n",
    "    inz_spin_orientation_gaussian_isotropic,\n",
    "    narrow_Gaussian_ind_spin_magnitude_beta,\n",
    "    narrow_Gaussian_iid_spin_magnitude_beta,\n",
    ")\n",
    "import gwpopulation\n",
    "from bilby.hyper.model import Model"
   ]
  },
  {
   "cell_type": "code",
   "execution_count": 67,
   "id": "bded458f-7741-4059-8b26-d65b8cc0ef01",
   "metadata": {},
   "outputs": [],
   "source": [
    "vt_helper.N_EVENTS = 67"
   ]
  },
  {
   "cell_type": "code",
   "execution_count": 68,
   "id": "14b8aea3-cb89-4ea9-b8d7-0ed19611e21f",
   "metadata": {},
   "outputs": [],
   "source": [
    "vt_model = Model([SinglePeakSmoothedMassDistribution(),gwpopulation.models.redshift.PowerLawRedshift(z_max=2.3),\n",
    "                  narrow_Gaussian_iid_spin_magnitude_beta,iid_spin_orientation_gaussian_isotropic,])\n",
    "vt_file = '/home/reed.essick/rates+pop/o1+o2+o3-sensitivity-estimates/LIGO-T2100377-v2/o1+o2+o3_bbhpop_real+semianalytic-LIGO-T2100377-v2.hdf5'"
   ]
  },
  {
   "cell_type": "code",
   "execution_count": null,
   "id": "f1d11102-6074-484f-948a-a91458a903da",
   "metadata": {},
   "outputs": [],
   "source": []
  },
  {
   "cell_type": "code",
   "execution_count": 69,
   "id": "9b1fde1f-94b6-45b4-b557-8d1c0781c33b",
   "metadata": {},
   "outputs": [
    {
     "name": "stderr",
     "output_type": "stream",
     "text": [
      "07:59 bilby INFO    : Loading VT data from /home/reed.essick/rates+pop/o1+o2+o3-sensitivity-estimates/LIGO-T2100377-v2/o1+o2+o3_bbhpop_real+semianalytic-LIGO-T2100377-v2.hdf5.\n"
     ]
    }
   ],
   "source": [
    "selection=vt_helper.injection_resampling_vt(vt_file, vt_model, ifar_threshold=1, snr_threshold=11)"
   ]
  },
  {
   "cell_type": "code",
   "execution_count": 116,
   "id": "ef6abd3a-f027-4fe3-b779-1c4fb94ba700",
   "metadata": {},
   "outputs": [],
   "source": [
    "parameters={'alpha': 3.3906214432008017, 'beta': 11.872032777464375, 'mmax': 66.02203535140167, 'mmin': 7.030738116966874,\n",
    "            'lam': 0.03537649510801244, 'mpp': 43.45345619354761, 'sigpp': 5.6137711106683055, 'delta_m': 7.537695460009335,\n",
    "            'amax': 1.0, 'mu_chi': 0.22444721406264845, 'sigma_chi': 0.023242719358394698,\n",
    "            'lambda_chi_peak': 0.8136168897634377, 'xi_spin': 0.22662433822792571,\n",
    "            'sigma_spin': 2.560536704037165, 'zmin': 0.9904183488130112, 'lamb': 6.944379558098749, 'amax_1': 1,\n",
    "            'amax_2': 1, 'alpha_chi': 1.4564953025980454, 'beta_chi': 5.032760127373581}"
   ]
  },
  {
   "cell_type": "code",
   "execution_count": 118,
   "id": "c5583d42-e39a-4473-adfe-8de289abb0ba",
   "metadata": {},
   "outputs": [],
   "source": [
    "parameters={'alpha': 5.807707625357638, 'beta': 7.857773293874018, 'mmax': 38.39864791116233, 'mmin': 5.442093903735277,\n",
    "            'lam': 0.7064862730331405, 'mpp': 20.69672309484772, 'sigpp': 7.683372785180904, 'delta_m': 5.973574262463819,\n",
    "            'amax': 1.0, 'mu_chi': 0.37330727817708753, 'sigma_chi': 0.001457941148695463,\n",
    "            'lambda_chi_peak': 0.5508468196857851, 'xi_spin': 0.7829914400900245,\n",
    "            'sigma_spin': 3.784976810385159, 'zmin': 0.7301685822897042, 'lamb': -3.3343600327249723, 'amax_1': 1,\n",
    "            'amax_2': 1, 'alpha_chi': 59.52955465611573, 'beta_chi': 99.93573877938063}"
   ]
  },
  {
   "cell_type": "code",
   "execution_count": 107,
   "id": "618c47cd-eb3a-4ec5-b763-89f2e19455ff",
   "metadata": {},
   "outputs": [],
   "source": [
    "parameters={'alpha': 6.620909575252146, 'beta': -3.828942595420015, 'mmax': 84.83459578603681, 'mmin': 6.869451314524123,\n",
    "            'lam': 0.8255939387613089, 'mpp': 20.72599992804074, 'sigpp': 9.387652515960614, 'delta_m': 8.345858322210091,\n",
    "            'amax': 1.0, 'mu_chi': 0.6909300751178183, 'sigma_chi': 0.04639939768725487,\n",
    "            'lambda_chi_peak': 0.027241098444644396, 'xi_spin': 0.6351288653638921,\n",
    "            'sigma_spin': 0.4685744137156771, 'zmin': 0.2692903443675587, 'lamb': 7.150333107772987, 'amax_1': 1,\n",
    "            'amax_2': 1, 'alpha_chi': 2.488963594391605, 'beta_chi': 1.1133743035023076}"
   ]
  },
  {
   "cell_type": "code",
   "execution_count": 109,
   "id": "067171d6-0486-4236-8332-ad20d770cf32",
   "metadata": {},
   "outputs": [],
   "source": [
    "parameters={'alpha': 8.644329445581704, 'beta': -1.7145619455614138, 'mmax': 61.36092300440256, 'mmin': 7.900245451365172,\n",
    "            'lam': 0.44565470688556585, 'mpp': 24.290255972301075, 'sigpp': 6.296593912956371, 'delta_m': 5.380013022859381,\n",
    "            'amax': 1.0, 'mu_chi': 0.3524210900772625, 'sigma_chi': 0.04223108763434075,\n",
    "            'lambda_chi_peak': 0.0007416161648901021, 'xi_spin': 0.09282138835069331,\n",
    "            'sigma_spin': 2.686845653744501, 'zmin': -0.7947213047955382, 'lamb': 4.141227413755432, 'amax_1': 1,\n",
    "            'amax_2': 1, 'alpha_chi': 1.5520930884725892, 'beta_chi': 2.8519937615292603}"
   ]
  },
  {
   "cell_type": "code",
   "execution_count": 72,
   "id": "feba3d3c-2823-4fd0-99f9-620782cfa9ea",
   "metadata": {},
   "outputs": [],
   "source": [
    "weights = selection.model.prob(selection.data) / selection.data[\"prior\"]"
   ]
  },
  {
   "cell_type": "code",
   "execution_count": 112,
   "id": "ae9f88c9-d5a4-483d-9398-3f737e80ff84",
   "metadata": {},
   "outputs": [
    {
     "data": {
      "text/plain": [
       "array([1.25262021])"
      ]
     },
     "execution_count": 112,
     "metadata": {},
     "output_type": "execute_result"
    }
   ],
   "source": [
    "narrow_Gaussian_iid_spin_magnitude_beta({'a_1':np.array([4.699895260082793e-05]), 'a_2':np.array([0.3043222])},**spin_parameters)"
   ]
  },
  {
   "cell_type": "code",
   "execution_count": 59,
   "id": "9fb27e79-c0ae-4787-972b-345e0053d5c1",
   "metadata": {},
   "outputs": [],
   "source": [
    "spin_model=Model([narrow_Gaussian_iid_spin_magnitude_beta])"
   ]
  },
  {
   "cell_type": "code",
   "execution_count": 63,
   "id": "320706e7-06c2-4396-95cb-b4cdebf545eb",
   "metadata": {},
   "outputs": [],
   "source": [
    "spin_model=Model([iid_spin_orientation_gaussian_isotropic])"
   ]
  },
  {
   "cell_type": "code",
   "execution_count": 64,
   "id": "378ad3c1-b73c-4f20-99a4-2ce523544446",
   "metadata": {},
   "outputs": [],
   "source": [
    "spin_model.parameters.update(parameters)"
   ]
  },
  {
   "cell_type": "code",
   "execution_count": 74,
   "id": "a5cca5a4-0c86-4840-a68d-85f58939db9f",
   "metadata": {},
   "outputs": [
    {
     "data": {
      "text/plain": [
       "6346"
      ]
     },
     "execution_count": 74,
     "metadata": {},
     "output_type": "execute_result"
    }
   ],
   "source": [
    "(weights!=0).sum()"
   ]
  },
  {
   "cell_type": "code",
   "execution_count": 75,
   "id": "441fac32-49b8-4042-b3ee-9d65702cc163",
   "metadata": {},
   "outputs": [],
   "source": [
    "mu = float(np.sum(weights) / selection.total_injections)\n",
    "var = float(\n",
    "    np.sum(weights ** 2) / selection.total_injections ** 2\n",
    "    - mu ** 2 / selection.total_injections\n",
    ")"
   ]
  },
  {
   "cell_type": "code",
   "execution_count": 119,
   "id": "8425d676-3b63-4b11-8e9b-6832ed3a829e",
   "metadata": {},
   "outputs": [
    {
     "data": {
      "text/plain": [
       "inf"
      ]
     },
     "execution_count": 119,
     "metadata": {},
     "output_type": "execute_result"
    }
   ],
   "source": [
    "selection(parameters)"
   ]
  },
  {
   "cell_type": "code",
   "execution_count": null,
   "id": "31263ba5-88d2-472b-ac98-72c57ab03eea",
   "metadata": {},
   "outputs": [],
   "source": []
  }
 ],
 "metadata": {
  "kernelspec": {
   "display_name": "gw_likelihood_error",
   "language": "python",
   "name": "gw_likelihood_error"
  },
  "language_info": {
   "codemirror_mode": {
    "name": "ipython",
    "version": 3
   },
   "file_extension": ".py",
   "mimetype": "text/x-python",
   "name": "python",
   "nbconvert_exporter": "python",
   "pygments_lexer": "ipython3",
   "version": "3.8.12"
  }
 },
 "nbformat": 4,
 "nbformat_minor": 5
}
