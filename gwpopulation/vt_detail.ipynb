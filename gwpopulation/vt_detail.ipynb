{
 "cells": [
  {
   "cell_type": "code",
   "execution_count": 12,
   "id": "6b8c4fef-ad0f-4265-9eca-acb813256d37",
   "metadata": {},
   "outputs": [],
   "source": [
    "import numpy as np\n",
    "from gwpopulation.cupy_utils import xp\n",
    "from gwpopulation.vt import GridVT, ResamplingVT\n",
    "import gwpopulation_pipe.vt_helper as vt_helper\n",
    "from gwpopulation.models.mass import (\n",
    "    SinglePeakSmoothedMassDistribution,\n",
    ")\n",
    "from gwpopulation.models.spin import (\n",
    "    iid_spin,\n",
    "    iid_spin_magnitude_beta,\n",
    "    iid_spin_orientation_gaussian_isotropic,\n",
    "    independent_spin_magnitude_beta,\n",
    "    independent_spin_orientation_gaussian_isotropic,\n",
    "    iiz_spin_orientation_gaussian_isotropic,\n",
    "    inz_spin_orientation_gaussian_isotropic,\n",
    "    narrow_Gaussian_ind_spin_magnitude_beta,\n",
    "    narrow_Gaussian_iid_spin_magnitude_beta,\n",
    ")\n",
    "import gwpopulation\n",
    "from bilby.hyper.model import Model"
   ]
  },
  {
   "cell_type": "code",
   "execution_count": 22,
   "id": "bded458f-7741-4059-8b26-d65b8cc0ef01",
   "metadata": {},
   "outputs": [],
   "source": [
    "vt_helper.N_EVENTS = 46"
   ]
  },
  {
   "cell_type": "code",
   "execution_count": 23,
   "id": "14b8aea3-cb89-4ea9-b8d7-0ed19611e21f",
   "metadata": {},
   "outputs": [],
   "source": [
    "vt_model = Model([SinglePeakSmoothedMassDistribution(),gwpopulation.models.redshift.PowerLawRedshift(z_max=2.3),\n",
    "                  narrow_Gaussian_iid_spin_magnitude_beta,iid_spin_orientation_gaussian_isotropic,])\n",
    "vt_file = '/home/reed.essick/rates+pop/o1+o2+o3-sensitivity-estimates/LIGO-T2100377-v2/o1+o2+o3_bbhpop_real+semianalytic-LIGO-T2100377-v2.hdf5'"
   ]
  },
  {
   "cell_type": "code",
   "execution_count": 24,
   "id": "9b1fde1f-94b6-45b4-b557-8d1c0781c33b",
   "metadata": {},
   "outputs": [
    {
     "name": "stderr",
     "output_type": "stream",
     "text": [
      "20:40 bilby INFO    : Loading VT data from /home/reed.essick/rates+pop/o1+o2+o3-sensitivity-estimates/LIGO-T2100377-v2/o1+o2+o3_bbhpop_real+semianalytic-LIGO-T2100377-v2.hdf5.\n"
     ]
    }
   ],
   "source": [
    "selection=vt_helper.injection_resampling_vt(vt_file, vt_model, ifar_threshold=1, snr_threshold=11)"
   ]
  },
  {
   "cell_type": "code",
   "execution_count": 25,
   "id": "ef6abd3a-f027-4fe3-b779-1c4fb94ba700",
   "metadata": {},
   "outputs": [],
   "source": [
    "parameters={'alpha': 6.620909575252146, 'beta': -3.828942595420015, 'mmax': 84.83459578603681, 'mmin': 6.869451314524123,\n",
    "            'lam': 0.8255939387613089, 'mpp': 20.72599992804074, 'sigpp': 9.387652515960614, 'delta_m': 8.345858322210091,\n",
    "            'amax': 1.0, 'mu_chi': 0.6909300751178183, 'sigma_chi': 0.04639939768725487,\n",
    "            'lambda_chi_peak': 0.027241098444644396, 'xi_spin': 0.6351288653638921, 'sigma_spin': 0.4685744137156771,\n",
    "            'zmin': 0.2692903443675587, 'lamb': 7.150333107772987, 'amax_1': 1, 'amax_2': 1,\n",
    "            'alpha_chi': 2.488963594391605, 'beta_chi': 1.1133743035023076}"
   ]
  },
  {
   "cell_type": "code",
   "execution_count": 26,
   "id": "441fac32-49b8-4042-b3ee-9d65702cc163",
   "metadata": {},
   "outputs": [],
   "source": [
    "selection.model.parameters.update(parameters)\n",
    "weights = selection.model.prob(selection.data) / selection.data[\"prior\"]\n",
    "mu = float(np.sum(weights) / selection.total_injections)\n",
    "var = float(\n",
    "    np.sum(weights ** 2) / selection.total_injections ** 2\n",
    "    - mu ** 2 / selection.total_injections\n",
    ")"
   ]
  },
  {
   "cell_type": "code",
   "execution_count": 30,
   "id": "8b1680ac-eb8f-4004-bd11-86e089a235e6",
   "metadata": {},
   "outputs": [],
   "source": [
    "n_eff = mu**2 / var"
   ]
  },
  {
   "cell_type": "code",
   "execution_count": 31,
   "id": "9d3dda02-a005-4381-b567-8b0e4e10bf0c",
   "metadata": {},
   "outputs": [
    {
     "data": {
      "text/plain": [
       "365.19757232968317"
      ]
     },
     "execution_count": 31,
     "metadata": {},
     "output_type": "execute_result"
    }
   ],
   "source": [
    "n_eff"
   ]
  },
  {
   "cell_type": "code",
   "execution_count": 34,
   "id": "dbfedb4c-5d0d-4707-aa28-ded7bb4db4ee",
   "metadata": {},
   "outputs": [
    {
     "data": {
      "text/plain": [
       "458.73644873360786"
      ]
     },
     "execution_count": 34,
     "metadata": {},
     "output_type": "execute_result"
    }
   ],
   "source": [
    "vt_factor = -46 * np.log(selection(parameters))\n",
    "vt_factor # ln_likelihood \\propto vt_factor"
   ]
  },
  {
   "cell_type": "code",
   "execution_count": null,
   "id": "8ecbcffc-6283-46cb-b0e8-b435b43e82c3",
   "metadata": {},
   "outputs": [],
   "source": []
  },
  {
   "cell_type": "code",
   "execution_count": 35,
   "id": "dc54eef1-8777-456e-87b3-ead6e3e13e67",
   "metadata": {},
   "outputs": [],
   "source": [
    "parameters={'alpha': 9.349738941078312, 'beta': -2.827998439837632, 'mmax': 79.86185840121948,\n",
    "            'mmin': 7.257795442733665, 'lam': 0.12875589154612876, 'mpp': 39.487271787523795,\n",
    "            'sigpp': 7.80402175389655, 'delta_m': 3.8038954226711663, 'amax': 1.0,\n",
    "            'mu_chi': 0.6972320497637738, 'sigma_chi': 0.00547485708081788,\n",
    "            'lambda_chi_peak': 0.9014516374171803, 'xi_spin': 0.02450307087503989,\n",
    "            'sigma_spin': 3.8146823985682246, 'zmin': 0.48693157949061794, 'lamb': 3.8504892139838613,\n",
    "            'amax_1': 1, 'amax_2': 1, 'alpha_chi': 26.186638679145155, 'beta_chi': 11.371357526016867}"
   ]
  },
  {
   "cell_type": "code",
   "execution_count": 36,
   "id": "edb381a3-fb96-4477-92d8-684a2ae643ef",
   "metadata": {},
   "outputs": [
    {
     "name": "stderr",
     "output_type": "stream",
     "text": [
      "/home/hui.tong/.conda/envs/gw_likelihood_error/lib/python3.8/site-packages/gwpopulation/models/mass.py:463: RuntimeWarning: invalid value encountered in true_divide\n",
      "  p_q /= self.norm_p_q(beta=beta, mmin=mmin, delta_m=delta_m)\n"
     ]
    }
   ],
   "source": [
    "selection.model.parameters.update(parameters)\n",
    "weights = selection.model.prob(selection.data) / selection.data[\"prior\"]\n",
    "mu = float(np.sum(weights) / selection.total_injections)\n",
    "var = float(\n",
    "    np.sum(weights ** 2) / selection.total_injections ** 2\n",
    "    - mu ** 2 / selection.total_injections\n",
    ")"
   ]
  },
  {
   "cell_type": "code",
   "execution_count": 37,
   "id": "bdd6f9f9-8a1e-4b0a-b463-bf84b2f16d78",
   "metadata": {},
   "outputs": [],
   "source": [
    "n_eff = mu**2 / var"
   ]
  },
  {
   "cell_type": "code",
   "execution_count": 38,
   "id": "c60d913d-49e5-4c52-85f5-8ebcd2718c37",
   "metadata": {},
   "outputs": [
    {
     "data": {
      "text/plain": [
       "34.42069168369877"
      ]
     },
     "execution_count": 38,
     "metadata": {},
     "output_type": "execute_result"
    }
   ],
   "source": [
    "n_eff"
   ]
  },
  {
   "cell_type": "code",
   "execution_count": 39,
   "id": "473aa067-6ceb-46b9-8051-82a4c08fc085",
   "metadata": {},
   "outputs": [
    {
     "data": {
      "text/plain": [
       "-inf"
      ]
     },
     "execution_count": 39,
     "metadata": {},
     "output_type": "execute_result"
    }
   ],
   "source": [
    "vt_factor = -46 * np.log(selection(parameters))\n",
    "vt_factor # ln_likelihood \\propto vt_factor"
   ]
  },
  {
   "cell_type": "code",
   "execution_count": null,
   "id": "84cddc7e-2ddf-4dbc-b926-4442dd415079",
   "metadata": {},
   "outputs": [],
   "source": []
  }
 ],
 "metadata": {
  "kernelspec": {
   "display_name": "gw_likelihood_error",
   "language": "python",
   "name": "gw_likelihood_error"
  },
  "language_info": {
   "codemirror_mode": {
    "name": "ipython",
    "version": 3
   },
   "file_extension": ".py",
   "mimetype": "text/x-python",
   "name": "python",
   "nbconvert_exporter": "python",
   "pygments_lexer": "ipython3",
   "version": "3.8.12"
  }
 },
 "nbformat": 4,
 "nbformat_minor": 5
}
