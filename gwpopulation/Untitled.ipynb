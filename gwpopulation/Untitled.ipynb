{
 "cells": [
  {
   "cell_type": "code",
   "execution_count": null,
   "id": "e11e9c3a-fed8-454a-a38b-ca863d18c599",
   "metadata": {},
   "outputs": [],
   "source": []
  },
  {
   "cell_type": "code",
   "execution_count": null,
   "id": "114a4511-e1c9-46fb-9020-51f21fc5d056",
   "metadata": {},
   "outputs": [],
   "source": [
    "cos_tilt_1 = xp.zeros((10,10))"
   ]
  },
  {
   "cell_type": "code",
   "execution_count": null,
   "id": "b064c297-dbb6-4264-943a-8be36d423865",
   "metadata": {},
   "outputs": [],
   "source": [
    "idx"
   ]
  }
 ],
 "metadata": {
  "kernelspec": {
   "display_name": "gw_spin",
   "language": "python",
   "name": "gw_spin"
  },
  "language_info": {
   "codemirror_mode": {
    "name": "ipython",
    "version": 3
   },
   "file_extension": ".py",
   "mimetype": "text/x-python",
   "name": "python",
   "nbconvert_exporter": "python",
   "pygments_lexer": "ipython3",
   "version": "3.8.12"
  }
 },
 "nbformat": 4,
 "nbformat_minor": 5
}
